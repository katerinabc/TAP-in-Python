{
 "cells": [
  {
   "cell_type": "markdown",
   "metadata": {},
   "source": [
    "\"\"\"\n",
    "Toy implementation of the Topical Affinity Propagation algorithm for estimating\n",
    "topic-based social influence graphs, from Tang et al. 2009. \"Social influence\n",
    "analysis in large-scale networks.\" Conference on Knowledge Discovery & Data \n",
    "Mining 2009, June 28 - July 1, 2009, Paris, France. <http:/bit.ly/1nOUh9e>.\n",
    "\n",
    "TODO\n",
    "----\n",
    "* Convert print statements to logger debug.\n",
    "* Write author_theta()\n",
    "\n",
    "\"\"\""
   ]
  },
  {
   "cell_type": "code",
   "execution_count": 3,
   "metadata": {
    "collapsed": true
   },
   "outputs": [],
   "source": [
    "import networkx as nx\n",
    "import numpy as np\n",
    "import random\n",
    "import pandas as pd"
   ]
  },
  {
   "cell_type": "code",
   "execution_count": 22,
   "metadata": {
    "collapsed": true
   },
   "outputs": [],
   "source": [
    "def swap(u,v):\n",
    "    \"\"\"\n",
    "    exchange the values of u and v\n",
    "    \"\"\"\n",
    "\n",
    "    return v,u\n",
    "    \n",
    "def author_theta(papers, model):\n",
    "    \"\"\"\n",
    "    Generates distributions over topics for authors, based on distributions over\n",
    "    topics for their papers.\n",
    "    \"\"\"\n",
    "    \n",
    "    return theta"
   ]
  },
  {
   "cell_type": "code",
   "execution_count": 48,
   "metadata": {
    "collapsed": false
   },
   "outputs": [],
   "source": [
    "class TAPModel(object):\n",
    "    def __init__(self, G, theta, damper=0.5):\n",
    "        \"\"\"\n",
    "        \n",
    "        Parameters\n",
    "        ----------\n",
    "        G : :class:`.nx.Graph()`\n",
    "            Should have 'weight' attribute in [0.,1.].\n",
    "        theta : array-like\n",
    "            Should have shape (N, T), where N == len(G.nodes()) and T is the\n",
    "            number of topics.\n",
    "        \"\"\"\n",
    "        self.G = G     # TODO: should take G as an input.\n",
    "        self.theta = theta\n",
    "\n",
    "        # These dictionaries are indexed by node id and not necessarily 0-based.\n",
    "        self.a = {}\n",
    "        self.b = {}\n",
    "        self.r = {}\n",
    "        self.g = {}\n",
    "\n",
    "        self.damper = damper   # This was not very clear in the paper.\n",
    "\n",
    "        self.N = len(self.G.nodes())\n",
    "        self.M = len(self.G.edges())\n",
    "\n",
    "        print('Loaded graph with {0} nodes and {1} edges.'.format(self.N, self.M))\n",
    "        \n",
    "        self.T = self.theta.shape[1]\n",
    "        self.N_d = self.theta.shape[0]\n",
    "\n",
    "        self.yold = { i: {k:0 for k in range(self.T) } for i in self.G.nodes() }\n",
    "\n",
    "        print('Loaded distributions over {0} topics for {1} nodes.'.format(self.T, self.N_d))\n",
    "        \n",
    "        #\t1.1 calculate g(vi,yi,z)\n",
    "        self._calculate_g()\n",
    "        print('Calculated g')\n",
    "\n",
    "        #   1.2 Eq8, calculate bz,ij\n",
    "        self._calculate_b()\n",
    "        print('Calculated b') \n",
    "\n",
    "\n",
    "    def _calculate_g(self):\n",
    "        \"\"\"eq. 1\"\"\"\n",
    "        for i in self.G.nodes():\n",
    "            n = self.G.neighbors(i)\n",
    "            self.g[i] = np.zeros((len(n)+1, self.T))\n",
    "\n",
    "            sumin = np.zeros((self.T))\n",
    "            sumout = np.zeros((self.T))\n",
    "        \n",
    "            for t, attr in iter(self.G[i].items()):\n",
    "                this = int(t) - 1\n",
    "                for k in range(self.T):\n",
    "                    w = float(attr['weight'])     \n",
    "                    sumout[k] = sumout[k] + w * self.theta[this,k]\n",
    "\n",
    "            for t, attr in iter(self.G[i].items()):\n",
    "                for k in range(self.T):\n",
    "                    w = float(attr['weight'])\n",
    "                    this = int(i) - 1                \n",
    "                    sumin[k] = sumin[k] + w * self.theta[this,k]\n",
    "                \n",
    "                    # calculate y z, i=i ;; [n,] should be the last row.\n",
    "                    self.g[i][len(n),k] = sumin[k] / (sumin[k] + sumout[k])\n",
    "                \n",
    "            j = 0\n",
    "            for t,attr in iter(self.G[i].items()):\n",
    "                for k in range(self.T):\n",
    "                    w = float(attr['weight'])\n",
    "                    this = int(t) - 1\n",
    "                    self.g[i][j,k] = w * self.theta[this,k] / (sumin[k] + sumout[k])\n",
    "                j+=1\n",
    "            \n",
    "    def _calculate_b(self):\n",
    "        \"\"\"eq. 8\"\"\"\n",
    "        for i in self.G.nodes():\n",
    "            n = self.G.neighbors(i)\n",
    "            self.b[i] = np.zeros((len(n)+1, self.T))\n",
    "            self.r[i] = np.zeros((len(n)+1, self.T))\n",
    "            self.a[i] = np.zeros((len(n)+1, self.T))\n",
    "            \n",
    "            sum_ = np.zeros((self.T))\n",
    "        \n",
    "            for j in range(len(n)+1):   # +1 to include self.\n",
    "                for k in range(self.T):\n",
    "                    sum_[k] += self.g[i][j,k]\n",
    "            for j in range(len(n)+1):\n",
    "                for k in range(self.T):\n",
    "                    self.b[i][j,k] = np.log(self.g[i][j,k] / sum_[k])\n",
    "\n",
    "    def _update_r(self):\n",
    "        \"\"\"eq. 5\"\"\"\n",
    "    \n",
    "        for i in self.G.nodes():\n",
    "            n = self.G.neighbors(i)\n",
    "        \n",
    "            firstmax = np.zeros((self.T))\n",
    "            secondmax = np.zeros((self.T))\n",
    "            temp = 0.\n",
    "            maxk = {}\n",
    "        \n",
    "            if len(n) < 1:  # node has no neighbors\n",
    "                for k in range(self.T):\n",
    "                    self.r[i][0,k] = self.b[i][0,k]\n",
    "            else:\n",
    "                for k in range(self.T):\n",
    "                    firstmax[k] = self.b[i][0,k] + self.a[i][0,k]\n",
    "                    secondmax[k] = self.b[i][1,k] + self.a[i][1,k]\n",
    "                    maxk[k] = 0\n",
    "                    if secondmax[k] > firstmax[k]:\n",
    "                        firstmax[k], secondmax[k] = swap(firstmax[k], secondmax[k])\n",
    "                        maxk[k] = 1\n",
    "\n",
    "                for j in range(2, len(n)+1):\n",
    "                    for k in range(self.T):\n",
    "                        temp = self.a[i][j,k] + self.b[i][j,k]\n",
    "                        if temp > secondmax[k]:\n",
    "                            temp, secondmax[k] = swap(temp, secondmax[k])\n",
    "                    \n",
    "                        if secondmax[k] > firstmax[k]:\n",
    "                            firstmax[k], secondmax[k] = swap(firstmax[k], secondmax[k])\n",
    "                            maxk[k] = j\n",
    "            \n",
    "                for j in range(len(n) + 1):\n",
    "                    for k in range(self.T):\n",
    "                        if j == maxk[k]:\n",
    "                            self.r[i][j,k] = ( (self.b[i][j,k] - secondmax[k]) * (1. - self.damper) ) + ( self.r[i][j,k] * self.damper )\n",
    "                        else:\n",
    "                            self.r[i][j,k] = ( (self.b[i][j,k] - firstmax[k]) * (1. - self.damper) ) + ( self.r[i][j,k] * self.damper )\n",
    "                \n",
    "\n",
    "    def _update_a(self):\n",
    "        firstmax = {} \n",
    "        secondmax = {}\n",
    "        maxk = {}\n",
    "\n",
    "        for j in self.G.nodes():\n",
    "            firstmax[j] = np.zeros((self.T))\n",
    "            secondmax[j] = np.zeros((self.T))\n",
    "        \n",
    "            maxk[j] = np.array( [-1] * self.T )\n",
    "\n",
    "            n = self.G.neighbors(j)\n",
    "        \n",
    "            # maxk[N] records the maximum value of min{r z, kj, 0}\n",
    "            if len(n) < 1:\n",
    "                for k in range(self.T):\n",
    "                    firstmax[j][k] = 0.\n",
    "        \n",
    "            else:\n",
    "                neighbour = n[0]\n",
    "                pos = self.G.neighbors(neighbour).index(j)\n",
    "            \n",
    "                for k in range(self.T):\n",
    "                    firstmax[j][k] = min( self.r[neighbour][pos, k], 0. )\n",
    "                    maxk[j][k] = neighbour\n",
    "            \n",
    "                if len(n) >= 2:\n",
    "                    neighbour = n[1]\n",
    "                    pos = self.G.neighbors(neighbour).index(j)\n",
    "                \n",
    "                    for k in range(self.T):\n",
    "                        secondmax[j][k] = min( self.r[neighbour][pos, k], 0. )\n",
    "                        if secondmax[j][k] > firstmax[j][k]:\n",
    "                            firstmax[j][k], secondmax[j][k] = swap(firstmax[j][k], secondmax[j][k])\n",
    "                            maxk[j][k] = neighbour\n",
    "            \n",
    "                    for i in range(2, len(n)):\n",
    "                        neighbour = n[i]\n",
    "                        pos = self.G.neighbors(neighbour).index(j)\n",
    "                    \n",
    "                        for k in range(self.T):\n",
    "                            temp = min ( self.r[neighbour][pos,k] , 0. )\n",
    "                            if temp > secondmax[j][k]:\n",
    "                                temp, secondmax[j][k] = swap(temp, secondmax[j][k])   \n",
    "                            if secondmax[j][k] > firstmax[j][k]:\n",
    "                                firstmax[j][k], secondmax[j][k] = swap(firstmax[j][k], secondmax[j][k])\n",
    "                                maxk[j][k] = neighbour                                          \n",
    "\n",
    "        for i in self.G.nodes():\n",
    "            n = self.G.neighbors(i)\n",
    "            for k in range(self.T): # a_ii\n",
    "                self.a[i][len(n), k] = firstmax[i][k]\n",
    "        \n",
    "            for j in n: # a_ij\n",
    "                j_index = n.index(j)\n",
    "                for k in range(self.T):\n",
    "                    if i == maxk[j][k]:\n",
    "                        use = secondmax[i][k]\n",
    "                    else:\n",
    "                        use = firstmax[i][k]\n",
    "                        n_j = self.G.neighbors(j)\n",
    "                    qwert = max ( self.r[j][len(n_j), k], 0 )\n",
    "                    asdf = (-1*min ( self.r[j][len(n_j), k], 0 )) - use\n",
    "                    self.a[i][j_index,k] = ( min(qwert, asdf) * (1. - self.damper) ) + ( self.a[i][j_index,k] * self.damper )\n",
    "                    \n",
    "            \n",
    "    def _check_convergence(self, nc):\n",
    "        \"\"\"\n",
    "        Returns false if the ranking of influencing nodes hasn't changed in a while.\n",
    "        \"\"\"\n",
    "\n",
    "        dc = 0\n",
    "        for i in self.G.nodes():\n",
    "            n = self.G.neighbors(i)\n",
    "            for k in range(self.T):\n",
    "                firstmax = self.r[i][len(n), k] + self.a[i][len(n), k]\n",
    "                rep = -1\n",
    "            \n",
    "                for j in range(len(n)):\n",
    "                    temp = self.r[i][j,k] + self.a[i][j,k]\n",
    "                    if temp > firstmax:\n",
    "                        temp, firstmax = swap(temp, firstmax)\n",
    "                        rep = j\n",
    "                if rep == -1:\n",
    "                    rep = i\n",
    "                else:\n",
    "                    rep = n[rep]\n",
    "            \n",
    "                if self.iteration >= 21:\n",
    "                    if self.yold[i][k] != rep:\n",
    "                        dc += 1\n",
    "            \n",
    "                self.yold[i][k] = rep\n",
    "\n",
    "        if dc == 0: # No change?\n",
    "            nc += 1\n",
    "        else:\n",
    "            nc = 0\n",
    "    \n",
    "        cont = True\n",
    "        if nc == 100:\n",
    "            cont = False\n",
    "            \n",
    "        return nc, cont\n",
    "    \n",
    "\n",
    "    def _calculate_mu(self):\n",
    "        self.MU = {}\n",
    "\n",
    "        # Export\n",
    "        for k in range(self.T):\n",
    "            subg = nx.DiGraph()\n",
    "            \n",
    "            # Influence\n",
    "            for i in self.G.nodes():\n",
    "                n = self.G.neighbors(i)\n",
    "                for j in self.G.nodes():\n",
    "                    if j in n:\n",
    "                        j_ = n.index(j)\n",
    "                        i_ = self.G.neighbors(j).index(i)\n",
    "                \n",
    "                        # Equation 9.\n",
    "                        j_i = 1./ (1. + np.exp(-1. * (self.r[i][j_,k] + self.a[i][j_,k])))\n",
    "                        i_j = 1./ (1. + np.exp(-1. * (self.r[j][i_,k] + self.a[j][i_,k])))\n",
    "                \n",
    "                        if j_i > i_j:   # Add only strongest edge.\n",
    "                            subg.add_edge(j, i, weight=float(j_i))\n",
    "                        else:\n",
    "                            subg.add_edge(i, j, weight=float(i_j))\n",
    "                            \n",
    "            # Theta\n",
    "            for i in self.G.nodes():\n",
    "                G.node[i]['theta'] = self.theta[int(i):int(k)] # changed , to : to see if thsi gets rid of the indexing error\n",
    "            self.MU[k] = subg\n",
    "    \n",
    "    def prime(self, alt_r, alt_a, alt_G):\n",
    "        \"\"\"\n",
    "        Prime r and a with values from a previous model.\n",
    "        \n",
    "        Parameters\n",
    "        ----------\n",
    "        alt_r : dict\n",
    "            { i: array-like [ j, k ] for i in G.nodes() }\n",
    "            Must be from a model with the same topics.\n",
    "        alt_a :dict\n",
    "            { i: array-like [ j, k ] for i in G.nodes() }\n",
    "            Must be from a model with the same topics.\n",
    "        alt_G : :class:`.nx.Graph`\n",
    "            Need not be the same shape as G, but node names must be consistent.\n",
    "        \"\"\"\n",
    "        \n",
    "        for i in alt_G.nodes():\n",
    "            alt_n = alt_G.neighbors(i)            \n",
    "            if i in self.G.nodes():\n",
    "                # alt_r and alt_a must be from a model with the same topics.\n",
    "                assert alt_r[i].shape[1] == self.r[i].shape[1]\n",
    "                assert alt_a[i].shape[1] == self.a[i].shape[1]\n",
    "                \n",
    "                n = self.G.neighbors(i)\n",
    "                for j in alt_n:\n",
    "                    if j in n:\n",
    "                        j_ = n.index(j)\n",
    "                        alt_j_ = alt_n.index(j)\n",
    "\n",
    "                        for k in range(self.T):\n",
    "                            self.r[i][j_,k] = alt_r[i][alt_j_,k]\n",
    "                            self.a[i][j_,k] = alt_a[i][alt_j_,k]                        \n",
    "    \n",
    "    def write(self, target):\n",
    "        for k in self.MU.keys():\n",
    "            nx.write_graphml(self.MU[k], '{0}_topic_{1}.graphml'.format(target,k))    \n",
    "\n",
    "    def graph(self, k):\n",
    "        return self.MU[k]\n",
    "\n",
    "    def build(self):\n",
    "        nc = 0\n",
    "        self.iteration = 0.\n",
    "        cont = True\n",
    "\n",
    "        while cont:\n",
    "            self.iteration += 1\n",
    "            self._update_r()\n",
    "            self._update_a()\n",
    "            nc,cont = self._check_convergence(nc)\n",
    "\n",
    "        self._calculate_mu()\n",
    "\n",
    "        self.write('./output/')"
   ]
  },
  {
   "cell_type": "markdown",
   "metadata": {},
   "source": [
    "In edgepath the edges should be in the format edge1, edge2, weight. The separator is a comma"
   ]
  },
  {
   "cell_type": "code",
   "execution_count": 94,
   "metadata": {
    "collapsed": true
   },
   "outputs": [],
   "source": [
    "edgepath = './sample/graph-16.edge'\n",
    "distpath = './sample/distribution.txt'"
   ]
  },
  {
   "cell_type": "code",
   "execution_count": 97,
   "metadata": {
    "collapsed": false
   },
   "outputs": [],
   "source": [
    "import pandas as pd\n",
    "df = pd.read_csv(distpath, sep=\",\")"
   ]
  },
  {
   "cell_type": "code",
   "execution_count": 98,
   "metadata": {
    "collapsed": false
   },
   "outputs": [
    {
     "data": {
      "text/plain": [
       "(8071, 12)"
      ]
     },
     "execution_count": 98,
     "metadata": {},
     "output_type": "execute_result"
    }
   ],
   "source": [
    "df.shape"
   ]
  },
  {
   "cell_type": "code",
   "execution_count": 105,
   "metadata": {
    "collapsed": false
   },
   "outputs": [
    {
     "data": {
      "text/html": [
       "<div>\n",
       "<table border=\"1\" class=\"dataframe\">\n",
       "  <thead>\n",
       "    <tr style=\"text-align: right;\">\n",
       "      <th></th>\n",
       "      <th>Unnamed: 0</th>\n",
       "      <th>0</th>\n",
       "      <th>1</th>\n",
       "      <th>2</th>\n",
       "      <th>3</th>\n",
       "      <th>4</th>\n",
       "      <th>5</th>\n",
       "      <th>6</th>\n",
       "      <th>7</th>\n",
       "      <th>8</th>\n",
       "      <th>9</th>\n",
       "      <th>10</th>\n",
       "    </tr>\n",
       "  </thead>\n",
       "  <tbody>\n",
       "    <tr>\n",
       "      <th>0</th>\n",
       "      <td>0</td>\n",
       "      <td>0.018806</td>\n",
       "      <td>0.018810</td>\n",
       "      <td>0.018805</td>\n",
       "      <td>0.018806</td>\n",
       "      <td>0.458722</td>\n",
       "      <td>0.018810</td>\n",
       "      <td>0.018806</td>\n",
       "      <td>0.018806</td>\n",
       "      <td>0.165211</td>\n",
       "      <td>0.018812</td>\n",
       "      <td>0.225607</td>\n",
       "    </tr>\n",
       "    <tr>\n",
       "      <th>1</th>\n",
       "      <td>1</td>\n",
       "      <td>0.017344</td>\n",
       "      <td>0.017343</td>\n",
       "      <td>0.017343</td>\n",
       "      <td>0.017343</td>\n",
       "      <td>0.017348</td>\n",
       "      <td>0.826557</td>\n",
       "      <td>0.017343</td>\n",
       "      <td>0.017344</td>\n",
       "      <td>0.017343</td>\n",
       "      <td>0.017344</td>\n",
       "      <td>0.017347</td>\n",
       "    </tr>\n",
       "    <tr>\n",
       "      <th>2</th>\n",
       "      <td>2</td>\n",
       "      <td>0.016357</td>\n",
       "      <td>0.016357</td>\n",
       "      <td>0.016357</td>\n",
       "      <td>0.016357</td>\n",
       "      <td>0.016360</td>\n",
       "      <td>0.504029</td>\n",
       "      <td>0.016357</td>\n",
       "      <td>0.016358</td>\n",
       "      <td>0.016357</td>\n",
       "      <td>0.016376</td>\n",
       "      <td>0.348737</td>\n",
       "    </tr>\n",
       "    <tr>\n",
       "      <th>3</th>\n",
       "      <td>3</td>\n",
       "      <td>0.015915</td>\n",
       "      <td>0.015916</td>\n",
       "      <td>0.015915</td>\n",
       "      <td>0.015916</td>\n",
       "      <td>0.078077</td>\n",
       "      <td>0.778684</td>\n",
       "      <td>0.015915</td>\n",
       "      <td>0.015915</td>\n",
       "      <td>0.015915</td>\n",
       "      <td>0.015917</td>\n",
       "      <td>0.015916</td>\n",
       "    </tr>\n",
       "    <tr>\n",
       "      <th>4</th>\n",
       "      <td>4</td>\n",
       "      <td>0.013172</td>\n",
       "      <td>0.013172</td>\n",
       "      <td>0.013172</td>\n",
       "      <td>0.013173</td>\n",
       "      <td>0.339063</td>\n",
       "      <td>0.542385</td>\n",
       "      <td>0.013173</td>\n",
       "      <td>0.013173</td>\n",
       "      <td>0.013172</td>\n",
       "      <td>0.013173</td>\n",
       "      <td>0.013173</td>\n",
       "    </tr>\n",
       "  </tbody>\n",
       "</table>\n",
       "</div>"
      ],
      "text/plain": [
       "   Unnamed: 0         0         1         2         3         4         5  \\\n",
       "0           0  0.018806  0.018810  0.018805  0.018806  0.458722  0.018810   \n",
       "1           1  0.017344  0.017343  0.017343  0.017343  0.017348  0.826557   \n",
       "2           2  0.016357  0.016357  0.016357  0.016357  0.016360  0.504029   \n",
       "3           3  0.015915  0.015916  0.015915  0.015916  0.078077  0.778684   \n",
       "4           4  0.013172  0.013172  0.013172  0.013173  0.339063  0.542385   \n",
       "\n",
       "          6         7         8         9        10  \n",
       "0  0.018806  0.018806  0.165211  0.018812  0.225607  \n",
       "1  0.017343  0.017344  0.017343  0.017344  0.017347  \n",
       "2  0.016357  0.016358  0.016357  0.016376  0.348737  \n",
       "3  0.015915  0.015915  0.015915  0.015917  0.015916  \n",
       "4  0.013173  0.013173  0.013172  0.013173  0.013173  "
      ]
     },
     "execution_count": 105,
     "metadata": {},
     "output_type": "execute_result"
    }
   ],
   "source": [
    "df.head()"
   ]
  },
  {
   "cell_type": "code",
   "execution_count": 108,
   "metadata": {
    "collapsed": false
   },
   "outputs": [],
   "source": [
    "df = df.drop(['Unnamed: 0'], axis = 1)"
   ]
  },
  {
   "cell_type": "code",
   "execution_count": 114,
   "metadata": {
    "collapsed": false
   },
   "outputs": [],
   "source": [
    "dimensions = df.shape"
   ]
  },
  {
   "cell_type": "code",
   "execution_count": 115,
   "metadata": {
    "collapsed": false
   },
   "outputs": [
    {
     "data": {
      "text/plain": [
       "(8071, 11)"
      ]
     },
     "execution_count": 115,
     "metadata": {},
     "output_type": "execute_result"
    }
   ],
   "source": [
    "dimensions"
   ]
  },
  {
   "cell_type": "code",
   "execution_count": 109,
   "metadata": {
    "collapsed": true
   },
   "outputs": [],
   "source": [
    "G = nx.Graph()"
   ]
  },
  {
   "cell_type": "code",
   "execution_count": 110,
   "metadata": {
    "collapsed": false
   },
   "outputs": [],
   "source": [
    "# Read in Graph data.\n",
    "with open(edgepath, 'r') as f:\n",
    "    for line in f:\n",
    "        edge = line.strip().split(',') \n",
    "        G.add_edge(edge[0], edge[1], weight=edge[2])"
   ]
  },
  {
   "cell_type": "code",
   "execution_count": 117,
   "metadata": {
    "collapsed": false
   },
   "outputs": [
    {
     "data": {
      "text/plain": [
       "8071"
      ]
     },
     "execution_count": 117,
     "metadata": {},
     "output_type": "execute_result"
    }
   ],
   "source": [
    "dimensions[0]"
   ]
  },
  {
   "cell_type": "code",
   "execution_count": 118,
   "metadata": {
    "collapsed": false
   },
   "outputs": [],
   "source": [
    "# Topic distributions for nodes.\n",
    "# TODO: should take this as an input.\n",
    "#with open(distpath, 'r') as f:\n",
    "#    theta = np.read_csv(f)\n",
    "\n",
    "theta = df\n",
    "theta = np.random.rand(dimensions[0], dimensions[1]) # needs to be the dimensions of distribution.txt"
   ]
  },
  {
   "cell_type": "code",
   "execution_count": 120,
   "metadata": {
    "collapsed": false
   },
   "outputs": [
    {
     "name": "stdout",
     "output_type": "stream",
     "text": [
      "first model\n",
      "Loaded graph with 539 nodes and 13229 edges.\n",
      "Loaded distributions over 11 topics for 8071 nodes.\n",
      "Calculated g\n",
      "Calculated b\n",
      "second model\n",
      "Loaded graph with 539 nodes and 13229 edges.\n",
      "Loaded distributions over 11 topics for 8071 nodes.\n",
      "Calculated g\n",
      "Calculated b\n"
     ]
    }
   ],
   "source": [
    "print('first model')\n",
    "model = TAPModel(G, theta)\n",
    "model.build()\n",
    "\n",
    "alt_r, alt_a, alt_G = model.r, model.a, model.G\n",
    "\n",
    "print('second model')\n",
    "model2 = TAPModel(G, theta)\n",
    "model2.prime(alt_r, alt_a, alt_G)\n",
    "model2.build()"
   ]
  }
 ],
 "metadata": {
  "kernelspec": {
   "display_name": "Python 3",
   "language": "python",
   "name": "python3"
  },
  "language_info": {
   "codemirror_mode": {
    "name": "ipython",
    "version": 3
   },
   "file_extension": ".py",
   "mimetype": "text/x-python",
   "name": "python",
   "nbconvert_exporter": "python",
   "pygments_lexer": "ipython3",
   "version": "3.6.0"
  }
 },
 "nbformat": 4,
 "nbformat_minor": 2
}
