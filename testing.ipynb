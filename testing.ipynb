{
 "cells": [
  {
   "cell_type": "code",
   "execution_count": 1,
   "metadata": {
    "collapsed": false
   },
   "outputs": [],
   "source": [
    "import numpy as np\n",
    "import networkx as nx\n",
    "import random"
   ]
  },
  {
   "cell_type": "code",
   "execution_count": 3,
   "metadata": {
    "collapsed": true
   },
   "outputs": [],
   "source": [
    "import matplotlib.pyplot as plt"
   ]
  },
  {
   "cell_type": "code",
   "execution_count": 4,
   "metadata": {
    "collapsed": true
   },
   "outputs": [],
   "source": [
    "def calculate_w(i,j,z):\n",
    "    return theta[j,z] * alpha[i,j]"
   ]
  },
  {
   "cell_type": "code",
   "execution_count": 5,
   "metadata": {
    "collapsed": true
   },
   "outputs": [],
   "source": [
    "def calculate_g(i, y, z):\n",
    "    \"\"\"eq. 1\"\"\"\n",
    "\n",
    "    if i != y:\n",
    "        ret = w[i,y,z] / sum( w[i,j,z] + w[j,i,z] for j in NB(i) )\n",
    "        return ret\n",
    "    else:\n",
    "        ret = sum( w[j,i,z] for j in NB(i) ) / sum( w[i,j,z] + w[j,i,z] for j in NB(i) )\n",
    "        return ret"
   ]
  },
  {
   "cell_type": "code",
   "execution_count": 6,
   "metadata": {
    "collapsed": true
   },
   "outputs": [],
   "source": [
    "def calculate_b(i,j,z):\n",
    "    \"\"\"eq. 8\"\"\"\n",
    "    \n",
    "    _a = g[i,j,z]\n",
    "    _b = sum( [ g[i,k,z] for k in NB(i) + [i] ] )\n",
    "    return np.log(_a / _b)*-1."
   ]
  },
  {
   "cell_type": "code",
   "execution_count": 7,
   "metadata": {
    "collapsed": true
   },
   "outputs": [],
   "source": [
    "def update_r(i,j,z):\n",
    "    \"\"\"eq. 5\"\"\"\n",
    "\n",
    "    a_ = b[i,j,z]\n",
    "    #try:\n",
    "    b_ = np.max( [ b[i,k,z] + a[i,k,z] for k in NB(j) ])\n",
    "    #except ValueError:\n",
    "    #    b_ = 0.\n",
    "    \n",
    "    ret = a_ - b_\n",
    "    return ret"
   ]
  },
  {
   "cell_type": "code",
   "execution_count": 8,
   "metadata": {
    "collapsed": true
   },
   "outputs": [],
   "source": [
    "def update_a6(j, z):\n",
    "    \"\"\"eq. 6 & 7\"\"\"\n",
    "\n",
    "    ret = np.max( [ np.max([r[k,j,z], 0.]) for k in NB(j) ])\n",
    "    \n",
    "    return ret"
   ]
  },
  {
   "cell_type": "code",
   "execution_count": 9,
   "metadata": {
    "collapsed": true
   },
   "outputs": [],
   "source": [
    "def update_a7(i,j,z):\n",
    "    if i in NB(j):\n",
    "        _a = max( r[j,j,z], 0. )\n",
    "        _b1 = min( r[j,j,z], 0. )\n",
    "        try:\n",
    "            _b2 = max( [ min( r[k,j,z], 0. ) for k in NB(j) if k != i ] )\n",
    "        except:\n",
    "            _b2 = 0.\n",
    "        \n",
    "        #_b = 0. - _b1 - _b2\n",
    "        _b = 0. - _b1 - _b2\n",
    "        return min(_a, _b)"
   ]
  },
  {
   "cell_type": "code",
   "execution_count": 10,
   "metadata": {
    "collapsed": true
   },
   "outputs": [],
   "source": [
    "def compute_mu(s,t,z):\n",
    "    \"\"\"eq. 9\"\"\"\n",
    "    return 1. / ( 1. + math.exp( -1.* (r[t,s,z] + a[t,s,z]) ) )"
   ]
  },
  {
   "cell_type": "code",
   "execution_count": 11,
   "metadata": {
    "collapsed": true
   },
   "outputs": [],
   "source": [
    "def NB(i):\n",
    "    \"\"\"neighbors of i\"\"\"\n",
    "    return G[i].keys()"
   ]
  },
  {
   "cell_type": "code",
   "execution_count": 12,
   "metadata": {
    "collapsed": true
   },
   "outputs": [],
   "source": [
    "def a_step():\n",
    "    #print \"1.4 - 1.7\"\n",
    "    for i,j in G.edges():\n",
    "        for z in xrange(Z):\n",
    "            r[i,j,z] = update_r(i,j,z)\n",
    "            r[j,i,z] = update_r(j,i,z)\n",
    "    for z in xrange(Z):\n",
    "        shift = r[:,:,z] + np.min(r[:,:,z])\n",
    "        r[:,:,z] = shift/np.sum(shift)"
   ]
  },
  {
   "cell_type": "code",
   "execution_count": 13,
   "metadata": {
    "collapsed": true
   },
   "outputs": [],
   "source": [
    "def b_step():\n",
    "    #print \"1.8 - 1.10\"\n",
    "    for j in xrange(N):\n",
    "        for z in xrange(Z):\n",
    "            a[j,j,z] = update_a6(j,z)"
   ]
  },
  {
   "cell_type": "code",
   "execution_count": 14,
   "metadata": {
    "collapsed": true
   },
   "outputs": [],
   "source": [
    "def c_step():\n",
    "    #print \"1.11 - 1.13\"\n",
    "    for i,j in G.edges():\n",
    "        for z in xrange(Z):\n",
    "            if i != j:\n",
    "                a[i,j,z] = update_a7(i,j,z)\n",
    "                a[j,i,z] = update_a7(j,i,z)\n",
    "    for z in xrange(Z):\n",
    "        shift = a[:,:,z] + np.min(a[:,:,z])\n",
    "        a[:,:,z] = shift/np.sum(shift)        "
   ]
  },
  {
   "cell_type": "code",
   "execution_count": 15,
   "metadata": {
    "collapsed": true
   },
   "outputs": [],
   "source": [
    "def iterate():\n",
    "    a_step()\n",
    "    b_step()\n",
    "    c_step()"
   ]
  },
  {
   "cell_type": "code",
   "execution_count": 16,
   "metadata": {
    "collapsed": false
   },
   "outputs": [
    {
     "ename": "NameError",
     "evalue": "name 'G' is not defined",
     "output_type": "error",
     "traceback": [
      "\u001b[0;31m---------------------------------------------------------------------------\u001b[0m",
      "\u001b[0;31mNameError\u001b[0m                                 Traceback (most recent call last)",
      "\u001b[0;32m<ipython-input-16-499ab288a958>\u001b[0m in \u001b[0;36m<module>\u001b[0;34m()\u001b[0m\n\u001b[0;32m----> 1\u001b[0;31m \u001b[0ma_step\u001b[0m\u001b[0;34m(\u001b[0m\u001b[0;34m)\u001b[0m\u001b[0;34m\u001b[0m\u001b[0m\n\u001b[0m",
      "\u001b[0;32m<ipython-input-12-1c10b17483ea>\u001b[0m in \u001b[0;36ma_step\u001b[0;34m()\u001b[0m\n\u001b[1;32m      1\u001b[0m \u001b[0;32mdef\u001b[0m \u001b[0ma_step\u001b[0m\u001b[0;34m(\u001b[0m\u001b[0;34m)\u001b[0m\u001b[0;34m:\u001b[0m\u001b[0;34m\u001b[0m\u001b[0m\n\u001b[1;32m      2\u001b[0m     \u001b[0;31m#print \"1.4 - 1.7\"\u001b[0m\u001b[0;34m\u001b[0m\u001b[0;34m\u001b[0m\u001b[0m\n\u001b[0;32m----> 3\u001b[0;31m     \u001b[0;32mfor\u001b[0m \u001b[0mi\u001b[0m\u001b[0;34m,\u001b[0m\u001b[0mj\u001b[0m \u001b[0;32min\u001b[0m \u001b[0mG\u001b[0m\u001b[0;34m.\u001b[0m\u001b[0medges\u001b[0m\u001b[0;34m(\u001b[0m\u001b[0;34m)\u001b[0m\u001b[0;34m:\u001b[0m\u001b[0;34m\u001b[0m\u001b[0m\n\u001b[0m\u001b[1;32m      4\u001b[0m         \u001b[0;32mfor\u001b[0m \u001b[0mz\u001b[0m \u001b[0;32min\u001b[0m \u001b[0mxrange\u001b[0m\u001b[0;34m(\u001b[0m\u001b[0mZ\u001b[0m\u001b[0;34m)\u001b[0m\u001b[0;34m:\u001b[0m\u001b[0;34m\u001b[0m\u001b[0m\n\u001b[1;32m      5\u001b[0m             \u001b[0mr\u001b[0m\u001b[0;34m[\u001b[0m\u001b[0mi\u001b[0m\u001b[0;34m,\u001b[0m\u001b[0mj\u001b[0m\u001b[0;34m,\u001b[0m\u001b[0mz\u001b[0m\u001b[0;34m]\u001b[0m \u001b[0;34m=\u001b[0m \u001b[0mupdate_r\u001b[0m\u001b[0;34m(\u001b[0m\u001b[0mi\u001b[0m\u001b[0;34m,\u001b[0m\u001b[0mj\u001b[0m\u001b[0;34m,\u001b[0m\u001b[0mz\u001b[0m\u001b[0;34m)\u001b[0m\u001b[0;34m\u001b[0m\u001b[0m\n",
      "\u001b[0;31mNameError\u001b[0m: name 'G' is not defined"
     ]
    }
   ],
   "source": [
    "a_step()"
   ]
  },
  {
   "cell_type": "code",
   "execution_count": null,
   "metadata": {
    "collapsed": true
   },
   "outputs": [],
   "source": [
    "b_step()"
   ]
  },
  {
   "cell_type": "code",
   "execution_count": null,
   "metadata": {
    "collapsed": true
   },
   "outputs": [],
   "source": [
    "c_step()"
   ]
  },
  {
   "cell_type": "code",
   "execution_count": null,
   "metadata": {
    "collapsed": true
   },
   "outputs": [],
   "source": [
    "N = 100\n",
    "Z = 5\n",
    "degree = 20"
   ]
  },
  {
   "cell_type": "code",
   "execution_count": null,
   "metadata": {
    "collapsed": true
   },
   "outputs": [],
   "source": [
    "print \"Generate random graph.\"\n",
    "G = nx.random_regular_graph(degree, N)\n",
    "for i,j in G.edges():\n",
    "    G[i][j]['weight'] = random.random() + 0.01"
   ]
  },
  {
   "cell_type": "code",
   "execution_count": null,
   "metadata": {
    "collapsed": true
   },
   "outputs": [],
   "source": [
    "alpha = nx.to_numpy_matrix(G)"
   ]
  },
  {
   "cell_type": "code",
   "execution_count": null,
   "metadata": {
    "collapsed": true
   },
   "outputs": [],
   "source": [
    "theta_ = np.random.rand(N,Z)\n",
    "theta = np.zeros((N,Z))\n",
    "for i in xrange(N):\n",
    "    theta[i,:] = np.array([ (theta_[i,j]+0.0001)/(np.sum(theta_[i,:])+(0.0001*Z)) for j in xrange(Z)])"
   ]
  },
  {
   "cell_type": "code",
   "execution_count": null,
   "metadata": {
    "collapsed": true
   },
   "outputs": [],
   "source": [
    "theta = author_topics\n",
    "del author_topics"
   ]
  },
  {
   "cell_type": "code",
   "execution_count": null,
   "metadata": {
    "collapsed": true
   },
   "outputs": [],
   "source": [
    "w = np.zeros((N, N, Z))\n",
    "for i,j in G.edges():\n",
    "    for z in xrange(Z):\n",
    "        w[i,j,z] = calculate_w(i,j,z)\n",
    "        w[j,i,z] = calculate_w(j,i,z)"
   ]
  },
  {
   "cell_type": "code",
   "execution_count": null,
   "metadata": {
    "collapsed": true
   },
   "outputs": [],
   "source": [
    "print G.edges(data=True)[1]\n",
    "print w[0,1531,:]"
   ]
  },
  {
   "cell_type": "code",
   "execution_count": null,
   "metadata": {
    "collapsed": true
   },
   "outputs": [],
   "source": [
    "print \"1.1 Calculate the node feature function g(v_i, y_i, z);\"\n",
    "g = np.zeros((N, N, Z))\n",
    "for i,j in G.edges():\n",
    "    for z in xrange(Z):\n",
    "            g[i,j,z] = calculate_g(i,j,z)\n",
    "            g[j,i,z] = calculate_g(j,i,z)\n",
    "del w"
   ]
  },
  {
   "cell_type": "code",
   "execution_count": null,
   "metadata": {
    "collapsed": true
   },
   "outputs": [],
   "source": [
    "print g[0,1531,:]"
   ]
  },
  {
   "cell_type": "code",
   "execution_count": null,
   "metadata": {
    "collapsed": true
   },
   "outputs": [],
   "source": [
    "print \"1.2 Calculate b_ij^z according to Eq. 8;\"\n",
    "b = np.zeros((N, N, Z))\n",
    "for i,j in G.edges():\n",
    "    for z in xrange(Z):\n",
    "        b[i,j,z] = calculate_b(i, j, z)\n",
    "        b[j,i,z] = calculate_b(j, i, z)\n",
    "del g"
   ]
  },
  {
   "cell_type": "code",
   "execution_count": null,
   "metadata": {
    "collapsed": true
   },
   "outputs": [],
   "source": [
    "print b[0,1531,:]"
   ]
  },
  {
   "cell_type": "code",
   "execution_count": null,
   "metadata": {
    "collapsed": true
   },
   "outputs": [],
   "source": [
    "print \"1.3 Initalize all {r_ij^z} <- 0;\"\n",
    "r = np.zeros((N, N, Z)) # 1.3\n",
    "a = np.zeros((N, N, Z))"
   ]
  },
  {
   "cell_type": "code",
   "execution_count": null,
   "metadata": {
    "collapsed": true
   },
   "outputs": [],
   "source": [
    "r_m = []"
   ]
  },
  {
   "cell_type": "code",
   "execution_count": null,
   "metadata": {
    "collapsed": true
   },
   "outputs": [],
   "source": [
    "a_step()"
   ]
  },
  {
   "cell_type": "code",
   "execution_count": null,
   "metadata": {
    "collapsed": true
   },
   "outputs": [],
   "source": [
    "b_step()"
   ]
  },
  {
   "cell_type": "code",
   "execution_count": null,
   "metadata": {
    "collapsed": true
   },
   "outputs": [],
   "source": [
    "c_step()"
   ]
  },
  {
   "cell_type": "code",
   "execution_count": null,
   "metadata": {
    "collapsed": true
   },
   "outputs": [],
   "source": [
    "b[0,1531,:]"
   ]
  },
  {
   "cell_type": "code",
   "execution_count": null,
   "metadata": {
    "collapsed": true
   },
   "outputs": [],
   "source": [
    "r[0,1531,:]"
   ]
  },
  {
   "cell_type": "code",
   "execution_count": null,
   "metadata": {
    "collapsed": true
   },
   "outputs": [],
   "source": [
    "update_a7(0,1531,1)"
   ]
  },
  {
   "cell_type": "code",
   "execution_count": null,
   "metadata": {
    "collapsed": true
   },
   "outputs": [],
   "source": [
    "a[0,1531,:]"
   ]
  },
  {
   "cell_type": "code",
   "execution_count": null,
   "metadata": {
    "collapsed": true
   },
   "outputs": [],
   "source": [
    "for i in xrange(10):\n",
    "    iterate()\n",
    "   # r_m.append(np.mean(r))\n",
    "    print r[0,666,0:5]"
   ]
  },
  {
   "cell_type": "code",
   "execution_count": null,
   "metadata": {
    "collapsed": true
   },
   "outputs": [],
   "source": [
    " plt.plot(range(50),r_m[-50:] )"
   ]
  },
  {
   "cell_type": "code",
   "execution_count": null,
   "metadata": {
    "collapsed": true
   },
   "outputs": [],
   "source": [
    "np.mean(r)"
   ]
  },
  {
   "cell_type": "code",
   "execution_count": null,
   "metadata": {
    "collapsed": true
   },
   "outputs": [],
   "source": [
    "print [ compute_mu(0, 666, z) for z in xrange(Z) ]"
   ]
  },
  {
   "cell_type": "code",
   "execution_count": null,
   "metadata": {
    "collapsed": true
   },
   "outputs": [],
   "source": [
    "a[0,10,:]"
   ]
  },
  {
   "cell_type": "code",
   "execution_count": null,
   "metadata": {
    "collapsed": true
   },
   "outputs": [],
   "source": [
    "plt.figure()\n",
    "plt.yscale('log')\n",
    "plt.hist(r[:,2,0], bins=60)\n",
    "plt.show()"
   ]
  },
  {
   "cell_type": "code",
   "execution_count": null,
   "metadata": {
    "collapsed": true
   },
   "outputs": [],
   "source": [
    "G.edges()[3]"
   ]
  },
  {
   "cell_type": "code",
   "execution_count": null,
   "metadata": {
    "collapsed": true
   },
   "outputs": [],
   "source": [
    "r[0,1277,0]"
   ]
  },
  {
   "cell_type": "code",
   "execution_count": null,
   "metadata": {
    "collapsed": true
   },
   "outputs": [],
   "source": [
    "compute_mu(0,10,0)"
   ]
  },
  {
   "cell_type": "code",
   "execution_count": null,
   "metadata": {
    "collapsed": true
   },
   "outputs": [],
   "source": [
    "X = []\n",
    "Y = []\n",
    "for i,j,d in G.edges(data=True):\n",
    "    X.append(d['weight'])\n",
    "    Y.append(compute_mu(i,j,2))\n",
    "plt.plot(X, Y, 'ro')"
   ]
  },
  {
   "cell_type": "code",
   "execution_count": null,
   "metadata": {
    "collapsed": true
   },
   "outputs": [],
   "source": [
    "mus = []\n",
    "for i,j in G.edges():\n",
    "    for z in xrange(Z):\n",
    "        mus.append(compute_mu(i,j,z))\n",
    "plt.hist(mus, bins=60)\n",
    "plt.yscale('log')\n",
    "plt.show()"
   ]
  },
  {
   "cell_type": "code",
   "execution_count": null,
   "metadata": {
    "collapsed": true
   },
   "outputs": [],
   "source": [
    "import math"
   ]
  },
  {
   "cell_type": "code",
   "execution_count": null,
   "metadata": {
    "collapsed": true
   },
   "outputs": [],
   "source": [
    "with open(\"./evo_devo.csv\", \"w\") as f:\n",
    "    for i,j in G.edges():\n",
    "        f.write(\"\\t\".join([str(i),str(j)] + [ str(compute_mu(i, j, z)) for z in xrange(Z) ]) + \"\\n\")\n",
    "        f.write(\"\\t\".join([str(j),str(i)] + [ str(compute_mu(j, i, z)) for z in xrange(Z) ]) + \"\\n\")                "
   ]
  },
  {
   "cell_type": "code",
   "execution_count": null,
   "metadata": {
    "collapsed": true
   },
   "outputs": [],
   "source": [
    "with open(\"./evo_devo_attr.csv\", \"w\") as f:\n",
    "    for i,j in G.edges():\n",
    "        f.write(\"\\t\".join([str(i)+\" (pp) \"+str(j)] + [ str(compute_mu(i, j, z)) for z in xrange(Z) ]) + \"\\n\")\n",
    "        f.write(\"\\t\".join([str(j)+\" (pp) \"+str(i)] + [ str(compute_mu(j, i, z)) for z in xrange(Z) ]) + \"\\n\")        "
   ]
  },
  {
   "cell_type": "code",
   "execution_count": null,
   "metadata": {
    "collapsed": true
   },
   "outputs": [],
   "source": [
    "with open(\"./evo_devo_topics.csv\", \"w\") as f:\n",
    "    for i in G.nodes():\n",
    "        f.write( \"\\t\".join([str(i)] + [ str(theta[i,z]) for z in xrange(Z) ])+\"\\n\")"
   ]
  },
  {
   "cell_type": "code",
   "execution_count": null,
   "metadata": {
    "collapsed": true
   },
   "outputs": [],
   "source": [
    "modelpath = \"/Users/erickpeirson/Dropbox/DigitalHPS/ED Journals/models/20131208_LSA_Gibbs_EvoDevo.npz\""
   ]
  },
  {
   "cell_type": "code",
   "execution_count": null,
   "metadata": {
    "collapsed": true
   },
   "outputs": [],
   "source": [
    "from vsm.model import tf, tfidf, ldacgsmulti\n",
    "from vsm.corpus.util import corpusbuilders\n",
    "import vsm.corpus\n",
    "from vsm.viewer import ldagibbsviewer, tfidfviewer\n",
    "import tethne.networks as nt\n",
    "import tethne.readers as rd\n",
    "import pickle"
   ]
  },
  {
   "cell_type": "code",
   "execution_count": null,
   "metadata": {
    "collapsed": true
   },
   "outputs": [],
   "source": [
    "l = ldacgsmulti.LdaCgsMulti.load(modelpath)"
   ]
  },
  {
   "cell_type": "code",
   "execution_count": null,
   "metadata": {
    "collapsed": true
   },
   "outputs": [],
   "source": [
    "papers = pickle.load(open(\"/Users/erickpeirson/Dropbox/DigitalHPS/ED Journals/models/20131208_papers.pickle\", \"r\"))"
   ]
  },
  {
   "cell_type": "code",
   "execution_count": null,
   "metadata": {
    "collapsed": true
   },
   "outputs": [],
   "source": [
    "G = nt.authors.coauthors(papers, edge_attribs=['wosid'])"
   ]
  },
  {
   "cell_type": "code",
   "execution_count": null,
   "metadata": {
    "collapsed": true
   },
   "outputs": [],
   "source": [
    "len(G.edges())"
   ]
  },
  {
   "cell_type": "code",
   "execution_count": null,
   "metadata": {
    "collapsed": true
   },
   "outputs": [],
   "source": [
    "for i,j,d in G.edges(data=True):\n",
    "    if type(d['wosid']) is list:\n",
    "        G[i][j]['weight'] = float(len(d['wosid']))\n",
    "    else:\n",
    "        #G.remove_edge(i,j)\n",
    "        G[i][j]['weight'] = 1"
   ]
  },
  {
   "cell_type": "code",
   "execution_count": null,
   "metadata": {
    "collapsed": true
   },
   "outputs": [],
   "source": [
    "G = nx.compose_all([ g for g in nx.connected_component_subgraphs(G) if len(g) > 5 ])"
   ]
  },
  {
   "cell_type": "code",
   "execution_count": null,
   "metadata": {
    "collapsed": true
   },
   "outputs": [],
   "source": [
    "G = nx.connected_component_subgraphs(G)[0]"
   ]
  },
  {
   "cell_type": "code",
   "execution_count": null,
   "metadata": {
    "collapsed": true
   },
   "outputs": [],
   "source": [
    "N = len(G.nodes())\n",
    "print N"
   ]
  },
  {
   "cell_type": "code",
   "execution_count": null,
   "metadata": {
    "collapsed": true
   },
   "outputs": [],
   "source": [
    "Z = 40"
   ]
  },
  {
   "cell_type": "code",
   "execution_count": null,
   "metadata": {
    "collapsed": true
   },
   "outputs": [],
   "source": [
    "author_topics = np.zeros((N, Z))"
   ]
  },
  {
   "cell_type": "code",
   "execution_count": null,
   "metadata": {
    "collapsed": true
   },
   "outputs": [],
   "source": [
    "at = {}"
   ]
  },
  {
   "cell_type": "code",
   "execution_count": null,
   "metadata": {
    "collapsed": true
   },
   "outputs": [],
   "source": [
    "for q in xrange(len(papers)):\n",
    "    p = papers[q]\n",
    "    pa = [ ' '.join([p['aulast'][i], p['auinit'][i]]) for i in xrange(len(p['aulast'])) ]\n",
    "    for a in pa:\n",
    "        if a in G.nodes():\n",
    "            try:\n",
    "                at[a].append(l.doc_top[q,:])\n",
    "            except KeyError:\n",
    "                at[a] = [ l.doc_top[q,:] ]"
   ]
  },
  {
   "cell_type": "code",
   "execution_count": null,
   "metadata": {
    "collapsed": true
   },
   "outputs": [],
   "source": [
    "q = 0\n",
    "for a,values in at.iteritems():\n",
    "    if len(values) > 1:\n",
    "        varray = np.array(values)\n",
    "        V = np.zeros((Z))\n",
    "        for i in xrange(Z):\n",
    "            V[i] = np.sum(varray[:,i])\n",
    "    else:\n",
    "        V = values[0]\n",
    "    \n",
    "    #for r in xrange(len(V)):\n",
    "    #    if V[r] < 0.05:\n",
    "    #        V[r] = 0.0000000000001\n",
    "\n",
    "    val = np.array([ v/np.sum(V) for v in V])            \n",
    "    author_topics[q,:] = val\n",
    "    q+=1"
   ]
  },
  {
   "cell_type": "code",
   "execution_count": null,
   "metadata": {
    "collapsed": true
   },
   "outputs": [],
   "source": [
    "np.sum(author_topics[0,:])"
   ]
  },
  {
   "cell_type": "code",
   "execution_count": null,
   "metadata": {
    "collapsed": true
   },
   "outputs": [],
   "source": [
    "G_ = nx.Graph()"
   ]
  },
  {
   "cell_type": "code",
   "execution_count": null,
   "metadata": {
    "collapsed": true
   },
   "outputs": [],
   "source": [
    "adict = {}\n",
    "adict_ = {}\n",
    "q = 0\n",
    "for a in at.keys():\n",
    "    adict[a] = q\n",
    "    adict_[q] = a\n",
    "    q += 1"
   ]
  },
  {
   "cell_type": "code",
   "execution_count": null,
   "metadata": {
    "collapsed": true
   },
   "outputs": [],
   "source": [
    "for i,j,d in G.edges(data=True):\n",
    "    G_.add_edge(adict[i],adict[j],weight=d['weight'])"
   ]
  },
  {
   "cell_type": "code",
   "execution_count": null,
   "metadata": {
    "collapsed": true
   },
   "outputs": [],
   "source": [
    "len(G.edges())"
   ]
  },
  {
   "cell_type": "code",
   "execution_count": null,
   "metadata": {
    "collapsed": true
   },
   "outputs": [],
   "source": [
    "G_.edges(data=True)[0]"
   ]
  },
  {
   "cell_type": "code",
   "execution_count": null,
   "metadata": {
    "collapsed": true
   },
   "outputs": [],
   "source": [
    "G = G_"
   ]
  },
  {
   "cell_type": "code",
   "execution_count": null,
   "metadata": {
    "collapsed": true
   },
   "outputs": [],
   "source": [
    "del l"
   ]
  },
  {
   "cell_type": "code",
   "execution_count": null,
   "metadata": {
    "collapsed": true
   },
   "outputs": [],
   "source": [
    "del G_"
   ]
  },
  {
   "cell_type": "code",
   "execution_count": null,
   "metadata": {
    "collapsed": true
   },
   "outputs": [],
   "source": [
    "del papers"
   ]
  },
  {
   "cell_type": "code",
   "execution_count": null,
   "metadata": {
    "collapsed": true
   },
   "outputs": [],
   "source": [
    "del cc"
   ]
  },
  {
   "cell_type": "code",
   "execution_count": null,
   "metadata": {
    "collapsed": true
   },
   "outputs": [],
   "source": []
  }
 ],
 "metadata": {
  "kernelspec": {
   "display_name": "Python 3",
   "language": "python",
   "name": "python3"
  },
  "language_info": {
   "codemirror_mode": {
    "name": "ipython",
    "version": 3
   },
   "file_extension": ".py",
   "mimetype": "text/x-python",
   "name": "python",
   "nbconvert_exporter": "python",
   "pygments_lexer": "ipython3",
   "version": "3.6.0"
  }
 },
 "nbformat": 4,
 "nbformat_minor": 1
}
